{
 "cells": [
  {
   "cell_type": "markdown",
   "id": "170b7359",
   "metadata": {},
   "source": [
    "# Example"
   ]
  },
  {
   "cell_type": "code",
   "execution_count": null,
   "id": "e132dcc1",
   "metadata": {},
   "outputs": [],
   "source": [
    "import numpy as np\n",
    "from polyfit import load_example, PolynomRegressor, Constraints\n",
    "import matplotlib.pyplot as plt\n",
    "from mpl_toolkits.axes_grid1.inset_locator import zoomed_inset_axes, mark_inset\n",
    "\n",
    "X, y = load_example()\n",
    "x_plot = np.linspace(0, np.amax(X) + 2, 200)\n",
    "\n",
    "X = X.reshape((-1,1))\n",
    "\n",
    "DEG = 3\n",
    "\n",
    "np_coeffs = np.polyfit(X.ravel(), y, DEG)\n",
    "polyestimator = PolynomRegressor(deg=DEG)\n",
    "vander = np.vander(x_plot, N = DEG +1)\n",
    "pred_numpy = vander@np_coeffs\n",
    "\n",
    "\n",
    "polyestimator = PolynomRegressor(deg=DEG)\n",
    "monotone_constraint = Constraints(monotonicity='inc')\n",
    "polyestimator.fit(X, y, loss = 'l2', constraints={0: monotone_constraint})\n",
    "pred_mon = polyestimator.predict(x_plot.reshape(-1, 1))\n",
    "\n",
    "f, ax = plt.subplots(1, figsize = (9, 5))\n",
    "ax.set_xlim(-0.01, 85)\n",
    "ax.set_ylim(0.2, 1.03)\n",
    "ax.set_title(\"Unconstrained polynom versus constrained polynom\")\n",
    "ax.scatter(X, y, c='k', s=8)\n",
    "\n",
    "ax.plot(x_plot, pred_numpy, c='b', label='Degree=3 Unconstrained')\n",
    "ax.plot(x_plot, pred_mon, c='r', label='Degree=3 Monotonic')\n",
    "\n",
    "axins = zoomed_inset_axes(ax, 2, loc='lower right', borderpad=1.5)\n",
    "axins.set_xlim(55, 84) # apply the x-limits\n",
    "axins.set_ylim(0.93, 1.028)\n",
    "\n",
    "axins.yaxis.set_visible(False)\n",
    "axins.xaxis.set_visible(False)\n",
    "mark_inset(ax, axins, loc1=2, loc2=4, fc=\"none\", ec=\"0\")\n",
    "\n",
    "axins.scatter(X, y, c='k', s=8)\n",
    "axins.plot(x_plot, pred_numpy, c='b')\n",
    "axins.plot(x_plot, pred_mon, c='r')\n",
    "\n",
    "ax.legend(loc='upper left', frameon=False)\n",
    "plt.subplots_adjust(top=0.92,\n",
    "bottom=0.06,\n",
    "left=0.05,\n",
    "right=0.99)\n",
    "plt.show()"
   ]
  }
 ],
 "metadata": {
  "kernelspec": {
   "display_name": "Python 3 (ipykernel)",
   "language": "python",
   "name": "python3"
  },
  "language_info": {
   "codemirror_mode": {
    "name": "ipython",
    "version": 3
   },
   "file_extension": ".py",
   "mimetype": "text/x-python",
   "name": "python",
   "nbconvert_exporter": "python",
   "pygments_lexer": "ipython3",
   "version": "3.9.7"
  }
 },
 "nbformat": 4,
 "nbformat_minor": 5
}
